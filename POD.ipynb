{
 "cells": [
  {
   "cell_type": "code",
   "execution_count": 38,
   "metadata": {},
   "outputs": [],
   "source": [
    "import pandas as pd\n",
    "import sqlalchemy as db\n",
    "import numpy as np\n",
    "# Table Names\n",
    "TRAFFIC = \"TRAFFIC\"\n",
    "ROADS = \"ROADS\"\n",
    "\n",
    "engine = db.create_engine('sqlite:////mnt/dietpi_userdata/Projects/LTA Traffic Monitor/trafficmonitor')\n",
    "\n",
    "# Get Roads\n",
    "roadsQuery = \"SELECT id, name FROM ROADS\"\n",
    "ids = []\n",
    "road_names = []\n",
    "with engine.connect() as connection:\n",
    "    result = connection.execute(roadsQuery).fetchall()\n",
    "    for r in result:\n",
    "        ids.append(r[0])\n",
    "        road_names.append(r[1])\n",
    "    \n",
    "# For Each Road Get it's time series data\n",
    "#list_data = []\n",
    "#histQuery = db.sql.text(\"SELECT speedband FROM TRAFFIC WHERE road_id = :p1 ORDER BY timestamp ASC\")\n",
    "#with engine.connect() as connection:\n",
    "#    for id in roads:\n",
    "#        result = connection.execute(histQuery, p1 = id).fetchall()\n",
    "#        bands = [r[0] for r in result]\n",
    "#        list_data.append(bands)\n",
    "\n",
    "# Get earliest time\n",
    "timeQuery = db.sql.text(\"SELECT timestamp FROM TRAFFIC ORDER BY timestamp ASC LIMIT 1\")\n",
    "with engine.connect() as connection:\n",
    "    result = connection.execute(timeQuery).fetchone();\n",
    "    earliest = result[0][:-3]\n"
   ]
  },
  {
   "cell_type": "code",
   "execution_count": 27,
   "metadata": {},
   "outputs": [],
   "source": [
    "mat = np.asarray(list_data, dtype = np.float32)\n",
    "roads = np.asarray(roads, dtype = np.int)\n",
    "import scipy.io\n",
    "\n",
    "scipy.io.savemat(\"data.mat\", {\"data\": mat, \"road_ids\": ids, \"road_names\": road_names, \"num_roads\": mat.shape[0], \"sample_time\": \"10 minutes\", \"start time\": })"
   ]
  },
  {
   "cell_type": "code",
   "execution_count": 39,
   "metadata": {},
   "outputs": [
    {
     "data": {
      "text/plain": [
       "'2020-05-07 13:30'"
      ]
     },
     "execution_count": 39,
     "metadata": {},
     "output_type": "execute_result"
    }
   ],
   "source": [
    "earliest\n",
    "#scipy.io.savemat(\"test.mat\", {\"roads\": roads})"
   ]
  },
  {
   "cell_type": "code",
   "execution_count": 41,
   "metadata": {},
   "outputs": [
    {
     "ename": "AttributeError",
     "evalue": "module 'numpy' has no attribute 'string'",
     "output_type": "error",
     "traceback": [
      "\u001b[0;31m---------------------------------------------------------------------------\u001b[0m",
      "\u001b[0;31mAttributeError\u001b[0m                            Traceback (most recent call last)",
      "\u001b[0;32m<ipython-input-41-fe0ceb08de02>\u001b[0m in \u001b[0;36m<module>\u001b[0;34m()\u001b[0m\n\u001b[0;32m----> 1\u001b[0;31m \u001b[0mroad_names\u001b[0m \u001b[0;34m=\u001b[0m \u001b[0mnp\u001b[0m\u001b[0;34m.\u001b[0m\u001b[0masarray\u001b[0m\u001b[0;34m(\u001b[0m\u001b[0mroads\u001b[0m\u001b[0;34m,\u001b[0m \u001b[0mdtype\u001b[0m \u001b[0;34m=\u001b[0m \u001b[0mnp\u001b[0m\u001b[0;34m.\u001b[0m\u001b[0mstring\u001b[0m\u001b[0;34m)\u001b[0m\u001b[0;34m\u001b[0m\u001b[0m\n\u001b[0m",
      "\u001b[0;31mAttributeError\u001b[0m: module 'numpy' has no attribute 'string'"
     ]
    }
   ],
   "source": [
    "road_names = np.asarray(roads, dtype = np.string)"
   ]
  },
  {
   "cell_type": "code",
   "execution_count": null,
   "metadata": {},
   "outputs": [],
   "source": []
  }
 ],
 "metadata": {
  "kernelspec": {
   "display_name": "Python 3",
   "language": "python",
   "name": "python3"
  },
  "language_info": {
   "codemirror_mode": {
    "name": "ipython",
    "version": 3
   },
   "file_extension": ".py",
   "mimetype": "text/x-python",
   "name": "python",
   "nbconvert_exporter": "python",
   "pygments_lexer": "ipython3",
   "version": "3.6.1"
  }
 },
 "nbformat": 4,
 "nbformat_minor": 2
}
